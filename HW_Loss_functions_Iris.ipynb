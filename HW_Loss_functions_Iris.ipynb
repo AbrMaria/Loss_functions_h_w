{
 "cells": [
  {
   "cell_type": "markdown",
   "metadata": {},
   "source": [
    "### Функции потерь и оптимизация\n",
    "- Реализовать самостоятельно логистическую регрессию\n",
    "- Обучить ее методом градиентного спуска\n",
    "- Методом nesterov momentum\n",
    "- Методом rmsprop\n",
    "\n",
    "В качестве dataset'а взять Iris, оставив 2 класса:\n",
    "- Iris Versicolor\n",
    "- Iris Virginica"
   ]
  },
  {
   "cell_type": "code",
   "execution_count": 5,
   "metadata": {},
   "outputs": [],
   "source": [
    "# Работа с данными\n",
    "import pandas as pd\n",
    "import numpy as np\n",
    "\n",
    "# Датасет\n",
    "from sklearn import datasets\n",
    "\n",
    "# Дополнительные фичи\n",
    "from sklearn.model_selection import train_test_split\n",
    "from sklearn.metrics import confusion_matrix\n",
    "\n",
    "# Модели \n",
    "from sklearn.linear_model import LogisticRegression\n",
    "\n",
    "#Визуализации\n",
    "%matplotlib inline\n",
    "import matplotlib.pyplot as plt\n",
    "import seaborn as sns"
   ]
  },
  {
   "cell_type": "code",
   "execution_count": 6,
   "metadata": {},
   "outputs": [],
   "source": [
    "# Загрузим датасет\n",
    "dataset = datasets.load_iris()\n",
    "\n",
    "# Используем pandas для манипуляции с данными\n",
    "features = pd.DataFrame(data=dataset.data, columns=dataset.feature_names)\n",
    "\n",
    "target = pd.DataFrame(dataset.target, columns=['target'])\n",
    "target['target_name'] = target.apply(lambda row: dataset.target_names[row.target], axis=1)\n",
    "\n",
    "# Итоговый датасет\n",
    "data = pd.concat([features, target], axis=1)\n",
    "data = data.loc[(data['target_name'] != 'setosa')]\n",
    "\n",
    "# Преобразование target-переменной\n",
    "data['target'] = data.apply(lambda row: 0 if row['target']==2 else 1,axis=1)"
   ]
  },
  {
   "cell_type": "code",
   "execution_count": 7,
   "metadata": {},
   "outputs": [],
   "source": [
    "X = data.drop(['target', 'target_name'], axis=1)\n",
    "y = data['target']\n",
    "\n",
    "# Разбиваем на обучающую и тестовую выборку\n",
    "X_train, X_test, y_train, y_test = train_test_split(X, y, test_size = 0.3, random_state = 0)"
   ]
  },
  {
   "cell_type": "markdown",
   "metadata": {},
   "source": [
    "### Логистическая регрессия с помощью библиотеки sklearn"
   ]
  },
  {
   "cell_type": "code",
   "execution_count": 8,
   "metadata": {},
   "outputs": [
    {
     "data": {
      "text/plain": [
       "LogisticRegression(C=1.0, class_weight=None, dual=False, fit_intercept=True,\n",
       "          intercept_scaling=1, max_iter=100, multi_class='warn',\n",
       "          n_jobs=None, penalty='l2', random_state=None, solver='liblinear',\n",
       "          tol=0.0001, verbose=0, warm_start=False)"
      ]
     },
     "execution_count": 8,
     "metadata": {},
     "output_type": "execute_result"
    }
   ],
   "source": [
    "# Обучение модели из коробки\n",
    "model = LogisticRegression(solver='liblinear')\n",
    "model.fit(X_train, y_train)"
   ]
  },
  {
   "cell_type": "code",
   "execution_count": 9,
   "metadata": {},
   "outputs": [
    {
     "data": {
      "text/plain": [
       "0.9333333333333333"
      ]
     },
     "execution_count": 9,
     "metadata": {},
     "output_type": "execute_result"
    }
   ],
   "source": [
    "predictions = model.predict(X_test)\n",
    "model.score(X_test, y_test)"
   ]
  },
  {
   "cell_type": "code",
   "execution_count": 10,
   "metadata": {},
   "outputs": [
    {
     "data": {
      "text/plain": [
       "array([[15,  0],\n",
       "       [ 2, 13]])"
      ]
     },
     "execution_count": 10,
     "metadata": {},
     "output_type": "execute_result"
    }
   ],
   "source": [
    "# Confusion matrix\n",
    "confusion_matrix(y_test, predictions)"
   ]
  },
  {
   "cell_type": "code",
   "execution_count": 11,
   "metadata": {},
   "outputs": [
    {
     "data": {
      "text/plain": [
       "array([[ 1.51766687,  1.42623154, -2.31553068, -2.06738366]])"
      ]
     },
     "execution_count": 11,
     "metadata": {},
     "output_type": "execute_result"
    }
   ],
   "source": [
    "# Подобранные коэффициенты для линейной регрессии\n",
    "model.coef_"
   ]
  },
  {
   "cell_type": "code",
   "execution_count": 12,
   "metadata": {},
   "outputs": [
    {
     "data": {
      "text/html": [
       "<div>\n",
       "<style scoped>\n",
       "    .dataframe tbody tr th:only-of-type {\n",
       "        vertical-align: middle;\n",
       "    }\n",
       "\n",
       "    .dataframe tbody tr th {\n",
       "        vertical-align: top;\n",
       "    }\n",
       "\n",
       "    .dataframe thead th {\n",
       "        text-align: right;\n",
       "    }\n",
       "</style>\n",
       "<table border=\"1\" class=\"dataframe\">\n",
       "  <thead>\n",
       "    <tr style=\"text-align: right;\">\n",
       "      <th></th>\n",
       "      <th>sepal length (cm)</th>\n",
       "      <th>sepal width (cm)</th>\n",
       "      <th>petal length (cm)</th>\n",
       "      <th>petal width (cm)</th>\n",
       "      <th>target</th>\n",
       "      <th>prediction</th>\n",
       "    </tr>\n",
       "  </thead>\n",
       "  <tbody>\n",
       "    <tr>\n",
       "      <th>0</th>\n",
       "      <td>6.8</td>\n",
       "      <td>2.8</td>\n",
       "      <td>4.8</td>\n",
       "      <td>1.4</td>\n",
       "      <td>1</td>\n",
       "      <td>1</td>\n",
       "    </tr>\n",
       "    <tr>\n",
       "      <th>1</th>\n",
       "      <td>6.3</td>\n",
       "      <td>3.4</td>\n",
       "      <td>5.6</td>\n",
       "      <td>2.4</td>\n",
       "      <td>0</td>\n",
       "      <td>0</td>\n",
       "    </tr>\n",
       "    <tr>\n",
       "      <th>2</th>\n",
       "      <td>6.9</td>\n",
       "      <td>3.1</td>\n",
       "      <td>4.9</td>\n",
       "      <td>1.5</td>\n",
       "      <td>1</td>\n",
       "      <td>1</td>\n",
       "    </tr>\n",
       "    <tr>\n",
       "      <th>3</th>\n",
       "      <td>7.6</td>\n",
       "      <td>3.0</td>\n",
       "      <td>6.6</td>\n",
       "      <td>2.1</td>\n",
       "      <td>0</td>\n",
       "      <td>0</td>\n",
       "    </tr>\n",
       "    <tr>\n",
       "      <th>4</th>\n",
       "      <td>7.2</td>\n",
       "      <td>3.2</td>\n",
       "      <td>6.0</td>\n",
       "      <td>1.8</td>\n",
       "      <td>0</td>\n",
       "      <td>0</td>\n",
       "    </tr>\n",
       "  </tbody>\n",
       "</table>\n",
       "</div>"
      ],
      "text/plain": [
       "   sepal length (cm)  sepal width (cm)  petal length (cm)  petal width (cm)  \\\n",
       "0                6.8               2.8                4.8               1.4   \n",
       "1                6.3               3.4                5.6               2.4   \n",
       "2                6.9               3.1                4.9               1.5   \n",
       "3                7.6               3.0                6.6               2.1   \n",
       "4                7.2               3.2                6.0               1.8   \n",
       "\n",
       "   target  prediction  \n",
       "0       1           1  \n",
       "1       0           0  \n",
       "2       1           1  \n",
       "3       0           0  \n",
       "4       0           0  "
      ]
     },
     "execution_count": 12,
     "metadata": {},
     "output_type": "execute_result"
    }
   ],
   "source": [
    "plot_data = pd.concat([X_test, pd.DataFrame(y_test)], axis=1)\n",
    "plot_data = pd.concat([plot_data.reset_index(drop=True), \n",
    "                           pd.DataFrame(predictions, columns=['prediction'])], axis=1)\n",
    "plot_data.head()"
   ]
  },
  {
   "cell_type": "code",
   "execution_count": 13,
   "metadata": {},
   "outputs": [
    {
     "data": {
      "text/plain": [
       "<matplotlib.axes._subplots.AxesSubplot at 0x1a1d304470>"
      ]
     },
     "execution_count": 13,
     "metadata": {},
     "output_type": "execute_result"
    },
    {
     "data": {
      "image/png": "[encoded data removed]",
      "text/plain": [
       "<Figure size 432x288 with 2 Axes>"
      ]
     },
     "metadata": {},
     "output_type": "display_data"
    }
   ],
   "source": [
    "plt.subplots_adjust(right=1.9 , top=0.9 )\n",
    "plt.subplot(121)\n",
    "sns.scatterplot(x='sepal length (cm)', y='sepal width (cm)', \n",
    "                    hue='prediction', palette=sns.color_palette(n_colors=2), data=plot_data)\n",
    "plt.subplot(122)\n",
    "sns.scatterplot(x='petal length (cm)', y='petal width (cm)', \n",
    "                    hue='prediction', palette=sns.color_palette(n_colors=2), data=plot_data)"
   ]
  },
  {
   "cell_type": "markdown",
   "metadata": {},
   "source": [
    "Текущая модель логистической регрессии для Ирисов:\n",
    "\n",
    "$$h_\\theta(x_i) = \\theta_0 + \\theta_1x_1 + \\theta_2x_2 + \\theta_3x_3 + \\theta_4x_4$$\n",
    "где:\n",
    "\n",
    "$x_1$ - sepal length (cm)\n",
    "\n",
    "$x_2$ - sepal width (cm)\n",
    "\n",
    "$x_3$ - petal length (cm)\n",
    "\n",
    "$x_4$ - petal width (cm)"
   ]
  },
  {
   "cell_type": "markdown",
   "metadata": {},
   "source": [
    "### Метод градиентного спуска"
   ]
  },
  {
   "cell_type": "markdown",
   "metadata": {},
   "source": [
    "Будем использовать Log Loss функцию, которую следует оптимизировать для заданной модели логистической регрессии\n",
    "$$L(\\theta) = \\sum_{i=1}^{N}  y_i\\log f(h_\\theta(x_i)) + (1 - y_i)\\log(1 - f(h_\\theta(x_i)) ) $$\n",
    "При этом $h_\\theta(x_i)$ можно считать как: $$h_\\theta(x_i) = \\theta_0 + \\theta_1x_1 + \\theta_2x_2 + \\theta_3x_3 + \\theta_4x_4$$\n",
    "\n",
    "А $f(h_\\theta(x_i))$ - сигмоида\n",
    "\n",
    "При этом каждая $\\theta$ становится целевым параметром, по которому будет производиться градиентный спуск:\n",
    "\n",
    "$$ \\theta :=\\theta -\\alpha \\nabla \\ln L(\\theta )=\\theta - \\alpha \\sum _{{i=1}}^{{m}}(y^{{(i)}}-f(\\theta ^{T}x^{{(i)}}))x^{{(i)}},\\alpha &gt;0 $$"
   ]
  },
  {
   "cell_type": "code",
   "execution_count": 14,
   "metadata": {},
   "outputs": [],
   "source": [
    "X = X_train[['sepal length (cm)', 'sepal width (cm)', 'petal length (cm)', 'petal width (cm)']].values.transpose()\n",
    "y = y_train.values"
   ]
  },
  {
   "cell_type": "code",
   "execution_count": 15,
   "metadata": {},
   "outputs": [
    {
     "name": "stdout",
     "output_type": "stream",
     "text": [
      "[ 1.94763717  1.91190193  1.74296179 -2.70540775 -3.48893447]\n"
     ]
    }
   ],
   "source": [
    "EPOCHS = 1000\n",
    "LEARNING_RATE = 0.001\n",
    "\n",
    "costs = []\n",
    "preds = []\n",
    "params = np.random.normal(size=(5,))\n",
    "\n",
    "\n",
    "for _ in range(EPOCHS):\n",
    "    hx = params[0] + params[1] * X[0] + params[2] * X[1] + params[3] * X[2] + params[4] * X[3]\n",
    "\n",
    "    predictions = 1/(1+np.exp(-hx))\n",
    "    preds.append(predictions)\n",
    "\n",
    "    cost = np.sum(np.square(predictions - y)) / (2 * len(predictions))\n",
    "    costs.append(cost)\n",
    "    \n",
    "    params[0] -= LEARNING_RATE * np.sum( predictions - y)\n",
    "    params[1] -= LEARNING_RATE * np.sum(( predictions - y) * X[0])\n",
    "    params[2] -= LEARNING_RATE * np.sum(( predictions - y) * X[1])\n",
    "    params[3] -= LEARNING_RATE * np.sum(( predictions - y) * X[2])   \n",
    "    params[4] -= LEARNING_RATE * np.sum(( predictions - y) * X[3])     \n",
    "    \n",
    "print(params)"
   ]
  },
  {
   "cell_type": "code",
   "execution_count": 16,
   "metadata": {},
   "outputs": [],
   "source": [
    "# Получение результатов на тестовой выборке\n",
    "x_test = X_test[['sepal length (cm)', 'sepal width (cm)', 'petal length (cm)', 'petal width (cm)']].values.transpose()\n",
    "\n",
    "hx = params[0] + params[1] * x_test[0] + params[2] * x_test[1] + params[3] * x_test[2] + params[4] * x_test[3]\n",
    "y_predictions = np.round(1/(1+np.exp(-hx)))"
   ]
  },
  {
   "cell_type": "code",
   "execution_count": 17,
   "metadata": {},
   "outputs": [
    {
     "data": {
      "text/plain": [
       "0.9333333333333333"
      ]
     },
     "execution_count": 17,
     "metadata": {},
     "output_type": "execute_result"
    }
   ],
   "source": [
    "# Accuracy\n",
    "from sklearn.metrics import accuracy_score\n",
    "accuracy_score(y_test, y_predictions)"
   ]
  },
  {
   "cell_type": "code",
   "execution_count": 18,
   "metadata": {},
   "outputs": [
    {
     "data": {
      "text/plain": [
       "array([[15,  0],\n",
       "       [ 2, 13]])"
      ]
     },
     "execution_count": 18,
     "metadata": {},
     "output_type": "execute_result"
    }
   ],
   "source": [
    "# Confusion matrix\n",
    "confusion_matrix(y_test, y_predictions)"
   ]
  },
  {
   "cell_type": "code",
   "execution_count": 19,
   "metadata": {},
   "outputs": [
    {
     "data": {
      "image/png": "[encoded data removed]",
      "text/plain": [
       "<Figure size 432x288 with 1 Axes>"
      ]
     },
     "metadata": {},
     "output_type": "display_data"
    }
   ],
   "source": [
    "plt.plot(costs)\n",
    "plt.show()"
   ]
  },
  {
   "cell_type": "code",
   "execution_count": 20,
   "metadata": {},
   "outputs": [],
   "source": [
    "logreg_data = X_test \n",
    "logreg_data['prediction'] = y_predictions"
   ]
  },
  {
   "cell_type": "code",
   "execution_count": 21,
   "metadata": {},
   "outputs": [
    {
     "data": {
      "text/plain": [
       "<matplotlib.axes._subplots.AxesSubplot at 0x1a1d6fcb00>"
      ]
     },
     "execution_count": 21,
     "metadata": {},
     "output_type": "execute_result"
    },
    {
     "data": {
      "image/png": "[encoded data removed]",
      "text/plain": [
       "<Figure size 432x288 with 2 Axes>"
      ]
     },
     "metadata": {},
     "output_type": "display_data"
    }
   ],
   "source": [
    "# Предсказания на основе посчитанной вручную логистической регрессии\n",
    "plt.subplots_adjust(right=1.9 , top=0.9 )\n",
    "plt.subplot(121)\n",
    "sns.scatterplot(x='sepal length (cm)', y='sepal width (cm)', \n",
    "                    hue='prediction', palette=sns.color_palette(n_colors=2), data=logreg_data)\n",
    "plt.subplot(122)\n",
    "sns.scatterplot(x='petal length (cm)', y='petal width (cm)', \n",
    "                    hue='prediction', palette=sns.color_palette(n_colors=2), data=logreg_data)"
   ]
  },
  {
   "cell_type": "code",
   "execution_count": null,
   "metadata": {},
   "outputs": [],
   "source": []
  },
  {
   "cell_type": "code",
   "execution_count": null,
   "metadata": {},
   "outputs": [],
   "source": []
  },
  {
   "cell_type": "code",
   "execution_count": null,
   "metadata": {},
   "outputs": [],
   "source": []
  }
 ],
 "metadata": {
  "kernelspec": {
   "display_name": "Python 3",
   "language": "python",
   "name": "python3"
  },
  "language_info": {
   "codemirror_mode": {
    "name": "ipython",
    "version": 3
   },
   "file_extension": ".py",
   "mimetype": "text/x-python",
   "name": "python",
   "nbconvert_exporter": "python",
   "pygments_lexer": "ipython3",
   "version": "3.6.8"
  }
 },
 "nbformat": 4,
 "nbformat_minor": 2
}
